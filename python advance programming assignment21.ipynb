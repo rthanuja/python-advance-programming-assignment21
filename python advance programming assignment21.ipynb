{
 "cells": [
  {
   "cell_type": "code",
   "execution_count": 1,
   "id": "86915bec",
   "metadata": {},
   "outputs": [],
   "source": [
    "#1.Given a sentence, return the number of words which have the same first and last letter.\n",
    "import re\n",
    "def count_same_ends(s):\n",
    "    n=0\n",
    "    s=re.findall(r'\\w+',s)\n",
    "    for i in s:\n",
    "        if len(i)!=1:\n",
    "            if i[0].lower()==i[-1].lower():\n",
    "                n+=1\n",
    "    return n"
   ]
  },
  {
   "cell_type": "code",
   "execution_count": 2,
   "id": "f4340edc",
   "metadata": {},
   "outputs": [
    {
     "data": {
      "text/plain": [
       "1"
      ]
     },
     "execution_count": 2,
     "metadata": {},
     "output_type": "execute_result"
    }
   ],
   "source": [
    "count_same_ends(\"Pop! goes the balloon\")"
   ]
  },
  {
   "cell_type": "code",
   "execution_count": 3,
   "id": "d405c757",
   "metadata": {},
   "outputs": [
    {
     "data": {
      "text/plain": [
       "0"
      ]
     },
     "execution_count": 3,
     "metadata": {},
     "output_type": "execute_result"
    }
   ],
   "source": [
    "count_same_ends(\"And the crowd goes wild!\")"
   ]
  },
  {
   "cell_type": "code",
   "execution_count": 4,
   "id": "638bf543",
   "metadata": {},
   "outputs": [
    {
     "data": {
      "text/plain": [
       "1"
      ]
     },
     "execution_count": 4,
     "metadata": {},
     "output_type": "execute_result"
    }
   ],
   "source": [
    "count_same_ends(\"No I am not in a gang.\")"
   ]
  },
  {
   "cell_type": "code",
   "execution_count": 5,
   "id": "9d29e745",
   "metadata": {},
   "outputs": [],
   "source": [
    "'''2.The Atbash cipher is an encryption method in which each letter of a word is replaced with its \"mirror\" letter in the\n",
    "alphabet: A <=> Z; B <=> Y; C <=> X; etc.Create a function that takes a string and applies the Atbash cipher to it.'''\n",
    "import re\n",
    "def atbash(s):\n",
    "    a=\"abcdefghijklmnopqrstuvwxyz\"\n",
    "    b=a[::-1]\n",
    "    s1=\"\"\n",
    "    for i in s:\n",
    "        if i.isalpha()==False:\n",
    "            s1+=i\n",
    "        elif i.isupper():\n",
    "            s1+=b[a.index(i.lower())].upper()\n",
    "        else:\n",
    "            s1+=b[a.index(i)]        \n",
    "    return s1\n"
   ]
  },
  {
   "cell_type": "code",
   "execution_count": 6,
   "id": "788a28d8",
   "metadata": {},
   "outputs": [
    {
     "data": {
      "text/plain": [
       "'zkkov'"
      ]
     },
     "execution_count": 6,
     "metadata": {},
     "output_type": "execute_result"
    }
   ],
   "source": [
    "atbash(\"apple\") "
   ]
  },
  {
   "cell_type": "code",
   "execution_count": 7,
   "id": "b1ebe4b7",
   "metadata": {},
   "outputs": [
    {
     "data": {
      "text/plain": [
       "'Svool dliow!'"
      ]
     },
     "execution_count": 7,
     "metadata": {},
     "output_type": "execute_result"
    }
   ],
   "source": [
    "atbash(\"Hello world!\") "
   ]
  },
  {
   "cell_type": "code",
   "execution_count": 8,
   "id": "509a9c95",
   "metadata": {},
   "outputs": [
    {
     "data": {
      "text/plain": [
       "'Xsirhgnzh rh gsv 25gs lu Wvxvnyvi'"
      ]
     },
     "execution_count": 8,
     "metadata": {},
     "output_type": "execute_result"
    }
   ],
   "source": [
    "atbash(\"Christmas is the 25th of December\")"
   ]
  },
  {
   "cell_type": "code",
   "execution_count": 9,
   "id": "ec60322d",
   "metadata": {},
   "outputs": [],
   "source": [
    "'''3. Create a class Employee that will take a full name as argument, as well as a set of none, one or more keywords.\n",
    "Each instance should have a name and a lastname attributes plus one more attribute for each of the keywords, if any.'''\n",
    "class Employee:\n",
    "    def __init__(self,name,**k):\n",
    "        l=name.split()\n",
    "        self.name=l[0]\n",
    "        self.lastname=l[-1]\n",
    "        self.__dict__.update(k)\n",
    "        "
   ]
  },
  {
   "cell_type": "code",
   "execution_count": 10,
   "id": "7b04d919",
   "metadata": {},
   "outputs": [
    {
     "data": {
      "text/plain": [
       "'John'"
      ]
     },
     "execution_count": 10,
     "metadata": {},
     "output_type": "execute_result"
    }
   ],
   "source": [
    "john = Employee(\"John Doe\")\n",
    "john.name"
   ]
  },
  {
   "cell_type": "code",
   "execution_count": 11,
   "id": "e4db0e60",
   "metadata": {},
   "outputs": [
    {
     "data": {
      "text/plain": [
       "'Major'"
      ]
     },
     "execution_count": 11,
     "metadata": {},
     "output_type": "execute_result"
    }
   ],
   "source": [
    "mary = Employee(\"Mary Major\", salary=120000)\n",
    "mary.lastname"
   ]
  },
  {
   "cell_type": "code",
   "execution_count": 12,
   "id": "79041a98",
   "metadata": {},
   "outputs": [
    {
     "data": {
      "text/plain": [
       "178"
      ]
     },
     "execution_count": 12,
     "metadata": {},
     "output_type": "execute_result"
    }
   ],
   "source": [
    "richard = Employee(\"Richard Roe\", salary=110000, height=178)\n",
    "richard.height "
   ]
  },
  {
   "cell_type": "code",
   "execution_count": 13,
   "id": "4afeaff4",
   "metadata": {},
   "outputs": [
    {
     "data": {
      "text/plain": [
       "'Italian'"
      ]
     },
     "execution_count": 13,
     "metadata": {},
     "output_type": "execute_result"
    }
   ],
   "source": [
    "giancarlo = Employee(\"Giancarlo Rossi\", salary=115000, height=182, nationality=\"Italian\")\n",
    "giancarlo.nationality"
   ]
  },
  {
   "cell_type": "code",
   "execution_count": 14,
   "id": "66e935dc",
   "metadata": {},
   "outputs": [],
   "source": [
    "'''4. Create a function that determines whether each seat can \"see\" the front-stage. A number can \"see\" the front-stage\n",
    "if it is strictly greater than the number before it.'''\n",
    "def can_see_stage(l):\n",
    "    for i in range(len(l[0])):\n",
    "        w=l[0][i]\n",
    "        for j in range(1,len(l)):\n",
    "            if w<(l[j][i]) and len(str(w))<=len(str(l[j][i])):\n",
    "                w=l[j][i]\n",
    "            else:\n",
    "                return False\n",
    "    return True"
   ]
  },
  {
   "cell_type": "code",
   "execution_count": 15,
   "id": "1bb92f1c",
   "metadata": {},
   "outputs": [
    {
     "data": {
      "text/plain": [
       "True"
      ]
     },
     "execution_count": 15,
     "metadata": {},
     "output_type": "execute_result"
    }
   ],
   "source": [
    "can_see_stage(\n",
    "[[1, 2, 3, 2, 1, 1],\n",
    "[2, 4, 4, 3, 2, 2],\n",
    "[5, 5, 5, 5, 4, 4],\n",
    "[6, 6, 7, 6, 5, 5]])"
   ]
  },
  {
   "cell_type": "code",
   "execution_count": 16,
   "id": "ad077d0a",
   "metadata": {},
   "outputs": [
    {
     "data": {
      "text/plain": [
       "False"
      ]
     },
     "execution_count": 16,
     "metadata": {},
     "output_type": "execute_result"
    }
   ],
   "source": [
    "can_see_stage([[1, 2, 3, 2, 1, 1],\n",
    "[2, 4, 4, 3, 2, 2],\n",
    "[5, 5, 5, 10, 4, 4],\n",
    "[6, 6, 7, 6, 5, 5]])"
   ]
  },
  {
   "cell_type": "code",
   "execution_count": 17,
   "id": "ae064cce",
   "metadata": {},
   "outputs": [
    {
     "data": {
      "text/plain": [
       "True"
      ]
     },
     "execution_count": 17,
     "metadata": {},
     "output_type": "execute_result"
    }
   ],
   "source": [
    "can_see_stage([\n",
    "[1, 2, 3],\n",
    "[4, 5, 6],\n",
    "[7, 8, 9]\n",
    "])"
   ]
  },
  {
   "cell_type": "code",
   "execution_count": 18,
   "id": "b558be46",
   "metadata": {},
   "outputs": [
    {
     "data": {
      "text/plain": [
       "True"
      ]
     },
     "execution_count": 18,
     "metadata": {},
     "output_type": "execute_result"
    }
   ],
   "source": [
    "can_see_stage([\n",
    "[0, 0, 0],\n",
    "[1, 1, 1],\n",
    "[2, 2, 2]\n",
    "])"
   ]
  },
  {
   "cell_type": "code",
   "execution_count": 19,
   "id": "770b3cb2",
   "metadata": {},
   "outputs": [
    {
     "data": {
      "text/plain": [
       "False"
      ]
     },
     "execution_count": 19,
     "metadata": {},
     "output_type": "execute_result"
    }
   ],
   "source": [
    "can_see_stage([\n",
    "[2, 0, 0],\n",
    "[1, 1, 1],\n",
    "[2, 2, 2]\n",
    "])"
   ]
  },
  {
   "cell_type": "code",
   "execution_count": 20,
   "id": "374f49ca",
   "metadata": {},
   "outputs": [
    {
     "data": {
      "text/plain": [
       "False"
      ]
     },
     "execution_count": 20,
     "metadata": {},
     "output_type": "execute_result"
    }
   ],
   "source": [
    "can_see_stage([\n",
    "[1, 0, 0],\n",
    "[1, 1, 1],\n",
    "[2, 2, 2]\n",
    "])"
   ]
  },
  {
   "cell_type": "code",
   "execution_count": 1,
   "id": "a530a2fa",
   "metadata": {},
   "outputs": [],
   "source": [
    "'''5. Create a Pizza class with the attributes order_number and ingredients (which is given as a list). Only the ingredients \n",
    "will be given as input.You should also make it so that its possible to choose a ready made pizza flavour rather than typing \n",
    "out the ingredients manually! As well as creating this Pizza class, hard-code the following pizza flavours.\n",
    "Name\t                    Ingredients\n",
    "hawaiian\t          ham, pineapple\n",
    "meat_festival\tbeef, meatball, bacon\n",
    "garden_feast\tspinach, olives, mushroom'''\n",
    "class Pizza:\n",
    "    d=1\n",
    "    def __init__(self,l=None):\n",
    "        self.ingredients=l        \n",
    "        self.order_number=Pizza.d\n",
    "    @classmethod\n",
    "    def hawaiian(cls):\n",
    "        Pizza.d+=1\n",
    "        return cls( [\"ham\", \"pineapple\"])\n",
    "    @classmethod\n",
    "    def meat_festival(cls):\n",
    "        Pizza.d+=1\n",
    "        return cls([\"beef\", \"meatball\",\"bacon\"])\n",
    "    @classmethod\n",
    "    def garden_feast(cls):\n",
    "        Pizza.d+=1\n",
    "        return cls( [\"spinach\", \"olives\", \"mushroom\"])\n",
    "       \n",
    "    \n",
    "    "
   ]
  },
  {
   "cell_type": "code",
   "execution_count": 22,
   "id": "102435cf",
   "metadata": {},
   "outputs": [],
   "source": [
    "p1 = Pizza([\"bacon\", \"parmesan\", \"ham\"])"
   ]
  },
  {
   "cell_type": "code",
   "execution_count": 23,
   "id": "95f29d4c",
   "metadata": {},
   "outputs": [
    {
     "data": {
      "text/plain": [
       "['bacon', 'parmesan', 'ham']"
      ]
     },
     "execution_count": 23,
     "metadata": {},
     "output_type": "execute_result"
    }
   ],
   "source": [
    "p1.ingredients"
   ]
  },
  {
   "cell_type": "code",
   "execution_count": 24,
   "id": "f7aaa307",
   "metadata": {},
   "outputs": [
    {
     "data": {
      "text/plain": [
       "1"
      ]
     },
     "execution_count": 24,
     "metadata": {},
     "output_type": "execute_result"
    }
   ],
   "source": [
    "p1.order_number"
   ]
  },
  {
   "cell_type": "code",
   "execution_count": 25,
   "id": "722836a5",
   "metadata": {},
   "outputs": [],
   "source": [
    "p2=Pizza.garden_feast()"
   ]
  },
  {
   "cell_type": "code",
   "execution_count": 26,
   "id": "3eb5201a",
   "metadata": {},
   "outputs": [
    {
     "data": {
      "text/plain": [
       "['spinach', 'olives', 'mushroom']"
      ]
     },
     "execution_count": 26,
     "metadata": {},
     "output_type": "execute_result"
    }
   ],
   "source": [
    "p2.ingredients"
   ]
  },
  {
   "cell_type": "code",
   "execution_count": 27,
   "id": "6eab9e59",
   "metadata": {},
   "outputs": [
    {
     "data": {
      "text/plain": [
       "2"
      ]
     },
     "execution_count": 27,
     "metadata": {},
     "output_type": "execute_result"
    }
   ],
   "source": [
    "p2.order_number"
   ]
  }
 ],
 "metadata": {
  "kernelspec": {
   "display_name": "Python 3 (ipykernel)",
   "language": "python",
   "name": "python3"
  },
  "language_info": {
   "codemirror_mode": {
    "name": "ipython",
    "version": 3
   },
   "file_extension": ".py",
   "mimetype": "text/x-python",
   "name": "python",
   "nbconvert_exporter": "python",
   "pygments_lexer": "ipython3",
   "version": "3.10.9"
  }
 },
 "nbformat": 4,
 "nbformat_minor": 5
}
